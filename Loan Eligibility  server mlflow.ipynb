{
 "cells": [
  {
   "cell_type": "code",
   "execution_count": 1,
   "id": "2d57dce8-1f5a-43fb-a22a-a0080efc7b01",
   "metadata": {},
   "outputs": [],
   "source": [
    "import os\n",
    "os.environ['MLFLOW_TRACKING_URI']='file:///C:\\\\Users\\\\MLOPS'"
   ]
  },
  {
   "cell_type": "code",
   "execution_count": 4,
   "id": "85e0eb79-e330-415b-b591-71871a4fed6b",
   "metadata": {},
   "outputs": [
    {
     "name": "stdout",
     "output_type": "stream",
     "text": [
      "                             run_id       experiment_id    status  \\\n",
      "0  66bb499389d34baf86ad436ce5ad6e5a  452828350543280368  FINISHED   \n",
      "1  aac3b9b0623e41709881a832e11b8af7  452828350543280368   RUNNING   \n",
      "2  86eca00794d84779be3a5b641c5be405  699291852169495835   RUNNING   \n",
      "\n",
      "                                        artifact_uri  \\\n",
      "0  file:///C:/Users/MLOPS/452828350543280368/66bb...   \n",
      "1  file:///C:/Users/MLOPS/452828350543280368/aac3...   \n",
      "2  file:///C:/Users/MLOPS/699291852169495835/86ec...   \n",
      "\n",
      "                        start_time                         end_time  \\\n",
      "0 2024-05-18 11:34:53.272000+00:00 2024-05-18 11:35:01.615000+00:00   \n",
      "1 2024-05-18 11:33:37.353000+00:00                              NaT   \n",
      "2 2024-05-18 11:32:32.741000+00:00                              NaT   \n",
      "\n",
      "   metrics.accuracy tags.mlflow.source.type  \\\n",
      "0          0.995435                   LOCAL   \n",
      "1               NaN                    None   \n",
      "2               NaN                    None   \n",
      "\n",
      "                             tags.mlflow.source.name  \\\n",
      "0  C:\\Users\\MANASA\\anaconda3\\Lib\\site-packages\\ip...   \n",
      "1                                               None   \n",
      "2                                               None   \n",
      "\n",
      "                       tags.mlflow.log-model.history tags.mlflow.runName  \\\n",
      "0  [{\"run_id\": \"66bb499389d34baf86ad436ce5ad6e5a\"...  unleashed-tern-409   \n",
      "1                                               None                None   \n",
      "2                                               None                None   \n",
      "\n",
      "  tags.mlflow.user  \n",
      "0           MANASA  \n",
      "1             None  \n",
      "2             None  \n"
     ]
    }
   ],
   "source": [
    "import mlflow\n",
    "\n",
    "all_runs = mlflow.search_runs(search_all_experiments=True)\n",
    "print(all_runs)"
   ]
  },
  {
   "cell_type": "code",
   "execution_count": 5,
   "id": "4122e0ed-6320-46f3-a4e5-c8895ac181a3",
   "metadata": {},
   "outputs": [
    {
     "name": "stdout",
     "output_type": "stream",
     "text": [
      "^C\n"
     ]
    }
   ],
   "source": [
    "!mlflow models serve -p 8002 -m runs:/66bb499389d34baf86ad436ce5ad6e5a/random-forest-model  --no-conda"
   ]
  },
  {
   "cell_type": "code",
   "execution_count": null,
   "id": "cd9b4029-d62f-41ca-bbfb-e576324cf73d",
   "metadata": {},
   "outputs": [],
   "source": []
  }
 ],
 "metadata": {
  "kernelspec": {
   "display_name": "Python 3 (ipykernel)",
   "language": "python",
   "name": "python3"
  },
  "language_info": {
   "codemirror_mode": {
    "name": "ipython",
    "version": 3
   },
   "file_extension": ".py",
   "mimetype": "text/x-python",
   "name": "python",
   "nbconvert_exporter": "python",
   "pygments_lexer": "ipython3",
   "version": "3.11.7"
  }
 },
 "nbformat": 4,
 "nbformat_minor": 5
}
